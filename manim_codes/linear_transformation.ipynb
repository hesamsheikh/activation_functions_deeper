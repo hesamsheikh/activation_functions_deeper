{
 "cells": [
  {
   "cell_type": "code",
   "execution_count": 6,
   "metadata": {},
   "outputs": [],
   "source": [
    "import manim \n",
    "import torch \n",
    "from matplotlib import pyplot as plt\n",
    "import numpy as np \n",
    "import torch\n",
    "import os \n"
   ]
  },
  {
   "cell_type": "code",
   "execution_count": null,
   "metadata": {},
   "outputs": [],
   "source": []
  },
  {
   "cell_type": "code",
   "execution_count": 7,
   "metadata": {},
   "outputs": [],
   "source": [
    "def setup_plot():\n",
    "    ## the default setting of plot\n",
    "    plt.style.use(['dark_background'])\n",
    "    plt.rc('axes', facecolor='k')\n",
    "    plt.rc('figure', facecolor='k')\n",
    "    plt.rc('figure', figsize=(10,10), dpi=100)\n",
    "    plt.set_cmap('YlOrRd')"
   ]
  },
  {
   "cell_type": "code",
   "execution_count": 8,
   "metadata": {},
   "outputs": [],
   "source": [
    "from torch import nn \n",
    "from torch import optim\n",
    "\n",
    "\n",
    "class LinearModel(nn.Module):\n",
    "    def __init__(self):\n",
    "        super().__init__()\n",
    "        self.l1 = nn.Linear(2, 2, bias=False)\n",
    "\n",
    "\n",
    "    def forward(self, x):\n",
    "        x = self.l1(x)\n",
    "        return x"
   ]
  },
  {
   "cell_type": "code",
   "execution_count": 9,
   "metadata": {},
   "outputs": [
    {
     "data": {
      "text/plain": [
       "<All keys matched successfully>"
      ]
     },
     "execution_count": 9,
     "metadata": {},
     "output_type": "execute_result"
    }
   ],
   "source": [
    "linear_model = LinearModel()\n",
    "linear_model.load_state_dict(torch.load(r'D:\\codebox\\activation_functions_deeper\\linear_model.pth'))"
   ]
  },
  {
   "cell_type": "code",
   "execution_count": 10,
   "metadata": {},
   "outputs": [],
   "source": [
    "# making the dots\n",
    "dot_counts = 100\n",
    "d = torch.randn(dot_counts, 2) / 2  # dot_counts number of 2d points, scale down to limit max distance to 1\n",
    "l = torch.zeros(dot_counts)  # label for dots\n",
    "\n",
    "# dividing data into 4 quadrants\n",
    "l[d[:,0] < 0] = 1   \n",
    "l[d[:,1] < 0] = 2\n",
    "l[(d[:,0] > 0) & (d[:,1] < 0)] = 3\n",
    "\n",
    "π = torch.pi\n",
    "t = torch.linspace(0, 2*π, 100)\n",
    "circle = torch.stack((torch.cos(t), torch.sin(t)), dim=1)"
   ]
  },
  {
   "cell_type": "code",
   "execution_count": 11,
   "metadata": {},
   "outputs": [],
   "source": [
    "with torch.no_grad():\n",
    "    predictions = linear_model(d)\n",
    "    transformed_circle = linear_model(circle)"
   ]
  },
  {
   "cell_type": "code",
   "execution_count": 12,
   "metadata": {},
   "outputs": [],
   "source": [
    "from manim import Scene, always_redraw, Axes, Dot, Circle, VMobject, BLUE, RED, GREEN, YELLOW, WHITE\n",
    "from manim.animation.transform import Transform\n",
    "from manim.animation.creation import Create\n",
    "from manim import *\n",
    "\n",
    "DOT_COLORS = (manim.YELLOW_A, manim.YELLOW_D, manim.ORANGE, manim.PURE_RED)"
   ]
  },
  {
   "cell_type": "code",
   "execution_count": 13,
   "metadata": {},
   "outputs": [],
   "source": [
    "\n",
    "class LinearTransformationScene(MovingCameraScene):\n",
    "    def construct(self):\n",
    "        axes = Axes(\n",
    "            x_range=[-3, 3, 1],  # Adding step size to show numbers on the x-axis\n",
    "            y_range=[-3, 3, 1],  # Adding step size to show numbers on the y-axis\n",
    "            x_length=8,\n",
    "            y_length=8,\n",
    "            tips=False,\n",
    "            axis_config={\"color\": WHITE, \"include_numbers\": True},  # Including numbers on both axes\n",
    "        )\n",
    "        self.add(axes)\n",
    "\n",
    "        # Original points\n",
    "        dots = [Dot(axes.c2p(*point.numpy()), color=DOT_COLORS[int(l[i])]) for i, point in enumerate(d)]\n",
    "        circle_shape = Circle(radius=1, color=YELLOW).move_to(axes.c2p(0, 0))\n",
    "\n",
    "        # Transformed points\n",
    "        transformed_d = linear_model(d)\n",
    "        transformed_circle = linear_model(circle)\n",
    "        transformed_dots = [\n",
    "            Dot(axes.c2p(*point.detach().numpy()), color=DOT_COLORS[int(l[i])], radius=0.04) for i, point in enumerate(transformed_d)\n",
    "        ]\n",
    "        \n",
    "        # Adjusting the input to VMobject to be 3D by adding a zero to the third dimension\n",
    "        transformed_circle_3d = torch.cat((transformed_circle, torch.zeros(transformed_circle.size(0), 1)), dim=1).detach().numpy()\n",
    "        transformed_circle_shape = VMobject(color=YELLOW).set_points_as_corners([*transformed_circle_3d])\n",
    "        \n",
    "        \n",
    "        self.play(Create(circle_shape))\n",
    "        self.play(*[Create(dot) for dot in dots], run_time=0.5)\n",
    "        self.wait(2)\n",
    "\n",
    "        # Transforming shapes\n",
    "        self.play(\n",
    "            Transform(circle_shape, transformed_circle_shape),\n",
    "            *[Transform(dots[i], transformed_dots[i]) for i in range(len(dots))]\n",
    "        )\n",
    "\n",
    "        # Rescaling axes for more precision after zoom\n",
    "        new_axes = Axes(\n",
    "            x_range=[-1.5, 1.5, 0.5],  # More precise step size\n",
    "            y_range=[-1.5, 1.5, 0.5],  # More precise step size\n",
    "            x_length=8,\n",
    "            y_length=8,\n",
    "            tips=False,\n",
    "            axis_config={\"color\": WHITE, \"include_numbers\": True},  # Smaller numbers\n",
    "        ).move_to(transformed_circle_shape.get_center())\n",
    "        \n",
    "        # Zooming in and adjusting the camera focus on the transformed objects\n",
    "        self.play(Transform(axes, new_axes),\n",
    "                  self.camera.frame.animate.scale(0.5).move_to(transformed_circle_shape.get_center()))\n",
    "        self.wait(2)"
   ]
  },
  {
   "cell_type": "code",
   "execution_count": null,
   "metadata": {},
   "outputs": [
    {
     "data": {
      "text/html": [
       "<pre style=\"white-space:pre;overflow-x:auto;line-height:normal;font-family:Menlo,'DejaVu Sans Mono',consolas,'Courier New',monospace\">Manim Community <span style=\"color: #008000; text-decoration-color: #008000\">v0.18.1</span>\n",
       "\n",
       "</pre>\n"
      ],
      "text/plain": [
       "Manim Community \u001b[32mv0.\u001b[0m\u001b[32m18.1\u001b[0m\n",
       "\n"
      ]
     },
     "metadata": {},
     "output_type": "display_data"
    },
    {
     "name": "stderr",
     "output_type": "stream",
     "text": [
      "                                                                                                    \r"
     ]
    },
    {
     "data": {
      "text/html": [
       "<video src=\"media\\jupyter\\LinearTransformationScene@2024-05-16@00-48-19.mp4\" controls autoplay loop style=\"max-width: 60%;\"  >\n",
       "      Your browser does not support the <code>video</code> element.\n",
       "    </video>"
      ],
      "text/plain": [
       "<IPython.core.display.Video object>"
      ]
     },
     "metadata": {},
     "output_type": "display_data"
    }
   ],
   "source": [
    "%manim -ql -v WARNING LinearTransformationScene2222"
   ]
  },
  {
   "cell_type": "code",
   "execution_count": 14,
   "metadata": {},
   "outputs": [],
   "source": [
    "\n",
    "# Assuming necessary imports, variable initializations, and definitions are done before this class\n",
    "# Applying ReLU activation function to the transformed points and circle\n",
    "relu = torch.nn.ReLU()\n",
    "transformed_d = linear_model(d)\n",
    "transformed_circle = linear_model(circle)\n",
    "transformed_d_relu = relu(transformed_d)\n",
    "transformed_circle_relu = relu(transformed_circle)"
   ]
  },
  {
   "cell_type": "code",
   "execution_count": 85,
   "metadata": {},
   "outputs": [
    {
     "ename": "TypeError",
     "evalue": "'generator' object is not subscriptable",
     "output_type": "error",
     "traceback": [
      "\u001b[1;31m---------------------------------------------------------------------------\u001b[0m",
      "\u001b[1;31mTypeError\u001b[0m                                 Traceback (most recent call last)",
      "Cell \u001b[1;32mIn[85], line 3\u001b[0m\n\u001b[0;32m      1\u001b[0m \u001b[38;5;66;03m# for param in linear_model.parameters():\u001b[39;00m\n\u001b[0;32m      2\u001b[0m \u001b[38;5;66;03m#     print(param)\u001b[39;00m\n\u001b[1;32m----> 3\u001b[0m \u001b[43mlinear_model\u001b[49m\u001b[38;5;241;43m.\u001b[39;49m\u001b[43mparameters\u001b[49m\u001b[43m(\u001b[49m\u001b[43m)\u001b[49m\u001b[43m[\u001b[49m\u001b[38;5;241;43m0\u001b[39;49m\u001b[43m]\u001b[49m\n",
      "\u001b[1;31mTypeError\u001b[0m: 'generator' object is not subscriptable"
     ]
    }
   ],
   "source": [
    "# for param in linear_model.parameters():\n",
    "#     print(param)\n",
    "for name, param in linear_model.named_parameters():\n",
    "    if name == 'weight':\n",
    "        print(param.data)\n"
   ]
  },
  {
   "cell_type": "code",
   "execution_count": 78,
   "metadata": {},
   "outputs": [],
   "source": [
    "from manim import *\n",
    "\n",
    "\n",
    "class ReLUTransformationScene(Scene):\n",
    "    def construct(self):\n",
    "        axes = Axes(\n",
    "            x_range=[-2, 2, 1],\n",
    "            y_range=[-2, 2, 1],\n",
    "            x_length=10,\n",
    "            y_length=7,\n",
    "            tips=False,\n",
    "            axis_config={\"color\": WHITE, \"include_numbers\": True},\n",
    "        )\n",
    "        # Original points\n",
    "        dots = [Dot(axes.c2p(*point.numpy()), color=DOT_COLORS[int(l[i])]) for i, point in enumerate(d)]\n",
    "        first_dot_coords = dots[0].get_center()\n",
    "        circle_shape = Circle(radius=1, color=YELLOW).move_to(axes.c2p(0, 0))\n",
    "        group = VGroup(axes, *dots[1:], circle_shape)\n",
    "        self.add(group)\n",
    "        group.save_state()\n",
    "        self.wait(1)\n",
    "\n",
    "        ### SHOW X AND Y values of a Point #################\n",
    "        # Show x and y values of the first dot on new 1D axes and display the values on them\n",
    "        # self.play(group.animate.set_opacity(0.3), run_time=0.5)\n",
    "        highlighted_dot = Dot(first_dot_coords, color=WHITE).scale(3).move_to(ORIGIN)\n",
    "        self.play(Transform(dots[0], highlighted_dot))\n",
    "        self.play(FadeOut(group))\n",
    "\n",
    "        x_val, y_val = np.round(d[0].numpy(), 4)\n",
    "        x_axis = NumberLine(x_range=[min(x_val-1, -3), max(x_val+1, 3), 1], length=4, color=BLUE, include_numbers=True).next_to(highlighted_dot, UP)\n",
    "        y_axis = NumberLine(x_range=[min(y_val-1, -3), max(y_val+1, 3), 1], length=4, color=GREEN, include_numbers=True).next_to(highlighted_dot, DOWN)\n",
    "        \n",
    "        # Create labels for \"X value\" and \"Y value\"\n",
    "        x_axis_label = Text(\"X value\").next_to(x_axis, RIGHT, buff=0.1)\n",
    "        y_axis_label = Text(\"Y value\").next_to(y_axis, RIGHT, buff=0.1)\n",
    "        \n",
    "        # Create labels for x_val and y_val with first 4 digits\n",
    "        x_val_label = MathTex(f\"{x_val:.4}\").next_to(x_axis, UP)\n",
    "        y_val_label = MathTex(f\"{y_val:.4}\").next_to(y_axis, DOWN)\n",
    "        \n",
    "        # Create dotted lines from highlighted_dot to the corresponding x and y values on the axes\n",
    "        x_line_to_axis = DashedLine(start=highlighted_dot.get_center(), end=x_axis.n2p(x_val), color=WHITE)\n",
    "        y_line_to_axis = DashedLine(start=highlighted_dot.get_center(), end=y_axis.n2p(y_val), color=WHITE)\n",
    "        \n",
    "        # Create new dots on the axes to show the values better\n",
    "        x_val_dot = Dot(x_axis.n2p(x_val), color=BLUE)\n",
    "        y_val_dot = Dot(y_axis.n2p(y_val), color=GREEN)\n",
    "        dot_matrix = Matrix([[x_val], [y_val]])\n",
    "\n",
    "        self.play(FadeIn(x_axis), FadeIn(y_axis), Write(x_axis_label), Write(y_axis_label), \n",
    "                Write(x_val_label), Write(y_val_label), Create(x_line_to_axis), Create(y_line_to_axis),\n",
    "                FadeIn(x_val_dot), FadeIn(y_val_dot))\n",
    "        substitle_1 = Text(\"Each dot is composed of two values\", font_size=24).to_edge(UP)\n",
    "        substitle_2 = Text(\"Let's see what happens to the dot:\", font_size=24).to_edge(UP)\n",
    "        self.play(Write(substitle_1))\n",
    "        self.wait(2)\n",
    "\n",
    "        # Fade the axes, labels, and dots out\n",
    "        self.play(FadeOut(x_axis), FadeOut(y_axis), FadeOut(x_axis_label), FadeOut(y_axis_label),\n",
    "                FadeOut(x_val_label), FadeOut(y_val_label),\n",
    "                FadeOut(x_line_to_axis), FadeOut(y_line_to_axis),\n",
    "                FadeOut(x_val_dot), FadeOut(y_val_dot), \n",
    "                # FadeOut(dots[0]),\n",
    "                FadeIn(dot_matrix),\n",
    "                dots[0].animate.next_to(dot_matrix, LEFT),\n",
    "                Transform(substitle_1, substitle_2)\n",
    "        )\n",
    "\n",
    "        # Show the weights from the linear_model as a matrix next to the dot_matrix with a \"*\" in between them\n",
    "        weights_matrix = Matrix(linear_model.detach().numpy()).next_to(dot_matrix, RIGHT)\n",
    "        multiplication_sign = MathTex(\"*\").next_to(dot_matrix, RIGHT, buff=0.1)\n",
    "        self.play(FadeIn(weights_matrix), Write(multiplication_sign))\n",
    "        \n",
    "\n",
    "        # Reset the dots to their original state before transformation\n",
    "        self.wait(2)\n",
    "        self.play(Restore(group))\n",
    "        ###################################################\n",
    "\n",
    "        # # Transforming the original points and circle\n",
    "        # transformed_dots = [\n",
    "        #     Dot(axes.c2p(*point.detach().numpy()), color=DOT_COLORS[int(l[i])]) for i, point in enumerate(transformed_d)\n",
    "        # ]\n",
    "        # transformed_circle_3d = torch.cat((transformed_circle, torch.zeros(transformed_circle.size(0), 1)), dim=1).detach().numpy()\n",
    "        # transformed_circle_shape = VMobject(color=YELLOW).set_points_as_corners([*transformed_circle_3d])\n",
    "\n",
    "        # # Visualizing the initial transformation\n",
    "        # self.play(\n",
    "        #     Transform(circle_shape, transformed_circle_shape),\n",
    "        #     *[Transform(dots[i], transformed_dots[i]) for i in range(len(dots))]\n",
    "        # )\n",
    "        # self.wait(1)\n",
    "\n",
    "        # # Converting the transformed points and circle with ReLU for visualization\n",
    "        # transformed_dots_relu = [\n",
    "        #     Dot(axes.c2p(*point.detach().numpy()), color=DOT_COLORS[int(l[i])], radius=0.05) for i, point in enumerate(transformed_d_relu)\n",
    "        # ]\n",
    "        # transformed_circle_3d_relu = torch.cat((transformed_circle_relu, torch.zeros(transformed_circle_relu.size(0), 1)), dim=1).detach().numpy()\n",
    "        # transformed_circle_shape_relu = VMobject(color=RED).set_points_as_corners([*transformed_circle_3d_relu])\n",
    "\n",
    "        # # Visualizing the transformation with ReLU activation\n",
    "        # self.play(\n",
    "        #     Transform(transformed_circle_shape, transformed_circle_shape_relu),\n",
    "        #     *[Transform(transformed_dots[i], transformed_dots_relu[i]) for i in range(len(transformed_dots))]\n",
    "        # )\n",
    "        # self.wait(2)\n"
   ]
  },
  {
   "cell_type": "code",
   "execution_count": 79,
   "metadata": {},
   "outputs": [
    {
     "data": {
      "text/html": [
       "<pre style=\"white-space:pre;overflow-x:auto;line-height:normal;font-family:Menlo,'DejaVu Sans Mono',consolas,'Courier New',monospace\">Manim Community <span style=\"color: #008000; text-decoration-color: #008000\">v0.18.1</span>\n",
       "\n",
       "</pre>\n"
      ],
      "text/plain": [
       "Manim Community \u001b[32mv0.\u001b[0m\u001b[32m18.1\u001b[0m\n",
       "\n"
      ]
     },
     "metadata": {},
     "output_type": "display_data"
    },
    {
     "name": "stderr",
     "output_type": "stream",
     "text": [
      "                                                                                                     \r"
     ]
    },
    {
     "ename": "AttributeError",
     "evalue": "'LinearModel' object has no attribute 'weight'",
     "output_type": "error",
     "traceback": [
      "\u001b[1;31m---------------------------------------------------------------------------\u001b[0m",
      "\u001b[1;31mAttributeError\u001b[0m                            Traceback (most recent call last)",
      "Cell \u001b[1;32mIn[79], line 1\u001b[0m\n\u001b[1;32m----> 1\u001b[0m \u001b[43mget_ipython\u001b[49m\u001b[43m(\u001b[49m\u001b[43m)\u001b[49m\u001b[38;5;241;43m.\u001b[39;49m\u001b[43mrun_line_magic\u001b[49m\u001b[43m(\u001b[49m\u001b[38;5;124;43m'\u001b[39;49m\u001b[38;5;124;43mmanim\u001b[39;49m\u001b[38;5;124;43m'\u001b[39;49m\u001b[43m,\u001b[49m\u001b[43m \u001b[49m\u001b[38;5;124;43m'\u001b[39;49m\u001b[38;5;124;43m-ql -v WARNING ReLUTransformationScene\u001b[39;49m\u001b[38;5;124;43m'\u001b[39;49m\u001b[43m)\u001b[49m\n",
      "File \u001b[1;32md:\\codebox\\kan_mnist\\venv\\Lib\\site-packages\\IPython\\core\\interactiveshell.py:2480\u001b[0m, in \u001b[0;36mInteractiveShell.run_line_magic\u001b[1;34m(self, magic_name, line, _stack_depth)\u001b[0m\n\u001b[0;32m   2478\u001b[0m     kwargs[\u001b[38;5;124m'\u001b[39m\u001b[38;5;124mlocal_ns\u001b[39m\u001b[38;5;124m'\u001b[39m] \u001b[38;5;241m=\u001b[39m \u001b[38;5;28mself\u001b[39m\u001b[38;5;241m.\u001b[39mget_local_scope(stack_depth)\n\u001b[0;32m   2479\u001b[0m \u001b[38;5;28;01mwith\u001b[39;00m \u001b[38;5;28mself\u001b[39m\u001b[38;5;241m.\u001b[39mbuiltin_trap:\n\u001b[1;32m-> 2480\u001b[0m     result \u001b[38;5;241m=\u001b[39m \u001b[43mfn\u001b[49m\u001b[43m(\u001b[49m\u001b[38;5;241;43m*\u001b[39;49m\u001b[43margs\u001b[49m\u001b[43m,\u001b[49m\u001b[43m \u001b[49m\u001b[38;5;241;43m*\u001b[39;49m\u001b[38;5;241;43m*\u001b[39;49m\u001b[43mkwargs\u001b[49m\u001b[43m)\u001b[49m\n\u001b[0;32m   2482\u001b[0m \u001b[38;5;66;03m# The code below prevents the output from being displayed\u001b[39;00m\n\u001b[0;32m   2483\u001b[0m \u001b[38;5;66;03m# when using magics with decorator @output_can_be_silenced\u001b[39;00m\n\u001b[0;32m   2484\u001b[0m \u001b[38;5;66;03m# when the last Python token in the expression is a ';'.\u001b[39;00m\n\u001b[0;32m   2485\u001b[0m \u001b[38;5;28;01mif\u001b[39;00m \u001b[38;5;28mgetattr\u001b[39m(fn, magic\u001b[38;5;241m.\u001b[39mMAGIC_OUTPUT_CAN_BE_SILENCED, \u001b[38;5;28;01mFalse\u001b[39;00m):\n",
      "File \u001b[1;32md:\\codebox\\kan_mnist\\venv\\Lib\\site-packages\\manim\\utils\\ipython_magic.py:143\u001b[0m, in \u001b[0;36mManimMagic.manim\u001b[1;34m(self, line, cell, local_ns)\u001b[0m\n\u001b[0;32m    141\u001b[0m     SceneClass \u001b[38;5;241m=\u001b[39m local_ns[config[\u001b[38;5;124m\"\u001b[39m\u001b[38;5;124mscene_names\u001b[39m\u001b[38;5;124m\"\u001b[39m][\u001b[38;5;241m0\u001b[39m]]\n\u001b[0;32m    142\u001b[0m     scene \u001b[38;5;241m=\u001b[39m SceneClass(renderer\u001b[38;5;241m=\u001b[39mrenderer)\n\u001b[1;32m--> 143\u001b[0m     \u001b[43mscene\u001b[49m\u001b[38;5;241;43m.\u001b[39;49m\u001b[43mrender\u001b[49m\u001b[43m(\u001b[49m\u001b[43m)\u001b[49m\n\u001b[0;32m    144\u001b[0m \u001b[38;5;28;01mfinally\u001b[39;00m:\n\u001b[0;32m    145\u001b[0m     \u001b[38;5;66;03m# Shader cache becomes invalid as the context is destroyed\u001b[39;00m\n\u001b[0;32m    146\u001b[0m     shader_program_cache\u001b[38;5;241m.\u001b[39mclear()\n",
      "File \u001b[1;32md:\\codebox\\kan_mnist\\venv\\Lib\\site-packages\\manim\\scene\\scene.py:229\u001b[0m, in \u001b[0;36mScene.render\u001b[1;34m(self, preview)\u001b[0m\n\u001b[0;32m    227\u001b[0m \u001b[38;5;28mself\u001b[39m\u001b[38;5;241m.\u001b[39msetup()\n\u001b[0;32m    228\u001b[0m \u001b[38;5;28;01mtry\u001b[39;00m:\n\u001b[1;32m--> 229\u001b[0m     \u001b[38;5;28;43mself\u001b[39;49m\u001b[38;5;241;43m.\u001b[39;49m\u001b[43mconstruct\u001b[49m\u001b[43m(\u001b[49m\u001b[43m)\u001b[49m\n\u001b[0;32m    230\u001b[0m \u001b[38;5;28;01mexcept\u001b[39;00m EndSceneEarlyException:\n\u001b[0;32m    231\u001b[0m     \u001b[38;5;28;01mpass\u001b[39;00m\n",
      "Cell \u001b[1;32mIn[78], line 71\u001b[0m, in \u001b[0;36mReLUTransformationScene.construct\u001b[1;34m(self)\u001b[0m\n\u001b[0;32m     60\u001b[0m \u001b[38;5;28mself\u001b[39m\u001b[38;5;241m.\u001b[39mplay(FadeOut(x_axis), FadeOut(y_axis), FadeOut(x_axis_label), FadeOut(y_axis_label),\n\u001b[0;32m     61\u001b[0m         FadeOut(x_val_label), FadeOut(y_val_label),\n\u001b[0;32m     62\u001b[0m         FadeOut(x_line_to_axis), FadeOut(y_line_to_axis),\n\u001b[1;32m   (...)\u001b[0m\n\u001b[0;32m     67\u001b[0m         Transform(substitle_1, substitle_2)\n\u001b[0;32m     68\u001b[0m )\n\u001b[0;32m     70\u001b[0m \u001b[38;5;66;03m# Show the weights from the linear_model as a matrix next to the dot_matrix with a \"*\" in between them\u001b[39;00m\n\u001b[1;32m---> 71\u001b[0m weights_matrix \u001b[38;5;241m=\u001b[39m Matrix(\u001b[43mlinear_model\u001b[49m\u001b[38;5;241;43m.\u001b[39;49m\u001b[43mweight\u001b[49m\u001b[38;5;241m.\u001b[39mdetach()\u001b[38;5;241m.\u001b[39mnumpy())\u001b[38;5;241m.\u001b[39mnext_to(dot_matrix, RIGHT)\n\u001b[0;32m     72\u001b[0m multiplication_sign \u001b[38;5;241m=\u001b[39m MathTex(\u001b[38;5;124m\"\u001b[39m\u001b[38;5;124m*\u001b[39m\u001b[38;5;124m\"\u001b[39m)\u001b[38;5;241m.\u001b[39mnext_to(dot_matrix, RIGHT, buff\u001b[38;5;241m=\u001b[39m\u001b[38;5;241m0.1\u001b[39m)\n\u001b[0;32m     73\u001b[0m \u001b[38;5;28mself\u001b[39m\u001b[38;5;241m.\u001b[39mplay(FadeIn(weights_matrix), Write(multiplication_sign))\n",
      "File \u001b[1;32md:\\codebox\\kan_mnist\\venv\\Lib\\site-packages\\torch\\nn\\modules\\module.py:1688\u001b[0m, in \u001b[0;36mModule.__getattr__\u001b[1;34m(self, name)\u001b[0m\n\u001b[0;32m   1686\u001b[0m     \u001b[38;5;28;01mif\u001b[39;00m name \u001b[38;5;129;01min\u001b[39;00m modules:\n\u001b[0;32m   1687\u001b[0m         \u001b[38;5;28;01mreturn\u001b[39;00m modules[name]\n\u001b[1;32m-> 1688\u001b[0m \u001b[38;5;28;01mraise\u001b[39;00m \u001b[38;5;167;01mAttributeError\u001b[39;00m(\u001b[38;5;124mf\u001b[39m\u001b[38;5;124m\"\u001b[39m\u001b[38;5;124m'\u001b[39m\u001b[38;5;132;01m{\u001b[39;00m\u001b[38;5;28mtype\u001b[39m(\u001b[38;5;28mself\u001b[39m)\u001b[38;5;241m.\u001b[39m\u001b[38;5;18m__name__\u001b[39m\u001b[38;5;132;01m}\u001b[39;00m\u001b[38;5;124m'\u001b[39m\u001b[38;5;124m object has no attribute \u001b[39m\u001b[38;5;124m'\u001b[39m\u001b[38;5;132;01m{\u001b[39;00mname\u001b[38;5;132;01m}\u001b[39;00m\u001b[38;5;124m'\u001b[39m\u001b[38;5;124m\"\u001b[39m)\n",
      "\u001b[1;31mAttributeError\u001b[0m: 'LinearModel' object has no attribute 'weight'"
     ]
    }
   ],
   "source": [
    "%manim -ql -v WARNING ReLUTransformationScene"
   ]
  },
  {
   "cell_type": "code",
   "execution_count": null,
   "metadata": {},
   "outputs": [],
   "source": []
  }
 ],
 "metadata": {
  "kernelspec": {
   "display_name": "venv",
   "language": "python",
   "name": "python3"
  },
  "language_info": {
   "codemirror_mode": {
    "name": "ipython",
    "version": 3
   },
   "file_extension": ".py",
   "mimetype": "text/x-python",
   "name": "python",
   "nbconvert_exporter": "python",
   "pygments_lexer": "ipython3",
   "version": "3.12.3"
  }
 },
 "nbformat": 4,
 "nbformat_minor": 2
}
